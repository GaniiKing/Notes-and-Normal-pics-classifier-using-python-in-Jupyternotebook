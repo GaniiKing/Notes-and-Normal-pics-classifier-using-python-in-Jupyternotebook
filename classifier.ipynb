{
 "cells": [
  {
   "cell_type": "code",
   "execution_count": 1,
   "id": "f4593b4a-fa84-4442-9984-1c3f80cb2cfd",
   "metadata": {},
   "outputs": [
    {
     "name": "stdout",
     "output_type": "stream",
     "text": [
      "Requirement already satisfied: tensorflow in c:\\users\\ganii\\appdata\\local\\programs\\python\\python39\\lib\\site-packages (2.16.1)\n",
      "Requirement already satisfied: tensorflow-intel==2.16.1 in c:\\users\\ganii\\appdata\\local\\programs\\python\\python39\\lib\\site-packages (from tensorflow) (2.16.1)\n",
      "Requirement already satisfied: absl-py>=1.0.0 in c:\\users\\ganii\\appdata\\local\\programs\\python\\python39\\lib\\site-packages (from tensorflow-intel==2.16.1->tensorflow) (2.1.0)\n",
      "Requirement already satisfied: astunparse>=1.6.0 in c:\\users\\ganii\\appdata\\local\\programs\\python\\python39\\lib\\site-packages (from tensorflow-intel==2.16.1->tensorflow) (1.6.3)\n",
      "Requirement already satisfied: flatbuffers>=23.5.26 in c:\\users\\ganii\\appdata\\local\\programs\\python\\python39\\lib\\site-packages (from tensorflow-intel==2.16.1->tensorflow) (24.3.25)\n",
      "Requirement already satisfied: gast!=0.5.0,!=0.5.1,!=0.5.2,>=0.2.1 in c:\\users\\ganii\\appdata\\local\\programs\\python\\python39\\lib\\site-packages (from tensorflow-intel==2.16.1->tensorflow) (0.5.4)\n",
      "Requirement already satisfied: google-pasta>=0.1.1 in c:\\users\\ganii\\appdata\\local\\programs\\python\\python39\\lib\\site-packages (from tensorflow-intel==2.16.1->tensorflow) (0.2.0)\n",
      "Requirement already satisfied: h5py>=3.10.0 in c:\\users\\ganii\\appdata\\local\\programs\\python\\python39\\lib\\site-packages (from tensorflow-intel==2.16.1->tensorflow) (3.11.0)\n",
      "Requirement already satisfied: libclang>=13.0.0 in c:\\users\\ganii\\appdata\\local\\programs\\python\\python39\\lib\\site-packages (from tensorflow-intel==2.16.1->tensorflow) (18.1.1)\n",
      "Requirement already satisfied: ml-dtypes~=0.3.1 in c:\\users\\ganii\\appdata\\local\\programs\\python\\python39\\lib\\site-packages (from tensorflow-intel==2.16.1->tensorflow) (0.3.2)\n",
      "Requirement already satisfied: opt-einsum>=2.3.2 in c:\\users\\ganii\\appdata\\local\\programs\\python\\python39\\lib\\site-packages (from tensorflow-intel==2.16.1->tensorflow) (3.3.0)\n",
      "Requirement already satisfied: packaging in c:\\users\\ganii\\appdata\\local\\programs\\python\\python39\\lib\\site-packages (from tensorflow-intel==2.16.1->tensorflow) (24.0)\n",
      "Requirement already satisfied: protobuf!=4.21.0,!=4.21.1,!=4.21.2,!=4.21.3,!=4.21.4,!=4.21.5,<5.0.0dev,>=3.20.3 in c:\\users\\ganii\\appdata\\local\\programs\\python\\python39\\lib\\site-packages (from tensorflow-intel==2.16.1->tensorflow) (4.25.3)\n",
      "Requirement already satisfied: requests<3,>=2.21.0 in c:\\users\\ganii\\appdata\\local\\programs\\python\\python39\\lib\\site-packages (from tensorflow-intel==2.16.1->tensorflow) (2.31.0)\n",
      "Requirement already satisfied: setuptools in c:\\users\\ganii\\appdata\\local\\programs\\python\\python39\\lib\\site-packages (from tensorflow-intel==2.16.1->tensorflow) (58.1.0)\n",
      "Requirement already satisfied: six>=1.12.0 in c:\\users\\ganii\\appdata\\local\\programs\\python\\python39\\lib\\site-packages (from tensorflow-intel==2.16.1->tensorflow) (1.16.0)\n",
      "Requirement already satisfied: termcolor>=1.1.0 in c:\\users\\ganii\\appdata\\local\\programs\\python\\python39\\lib\\site-packages (from tensorflow-intel==2.16.1->tensorflow) (2.4.0)\n",
      "Requirement already satisfied: typing-extensions>=3.6.6 in c:\\users\\ganii\\appdata\\local\\programs\\python\\python39\\lib\\site-packages (from tensorflow-intel==2.16.1->tensorflow) (4.11.0)\n",
      "Requirement already satisfied: wrapt>=1.11.0 in c:\\users\\ganii\\appdata\\local\\programs\\python\\python39\\lib\\site-packages (from tensorflow-intel==2.16.1->tensorflow) (1.16.0)\n",
      "Requirement already satisfied: grpcio<2.0,>=1.24.3 in c:\\users\\ganii\\appdata\\local\\programs\\python\\python39\\lib\\site-packages (from tensorflow-intel==2.16.1->tensorflow) (1.63.0)\n",
      "Requirement already satisfied: tensorboard<2.17,>=2.16 in c:\\users\\ganii\\appdata\\local\\programs\\python\\python39\\lib\\site-packages (from tensorflow-intel==2.16.1->tensorflow) (2.16.2)\n",
      "Requirement already satisfied: keras>=3.0.0 in c:\\users\\ganii\\appdata\\local\\programs\\python\\python39\\lib\\site-packages (from tensorflow-intel==2.16.1->tensorflow) (3.3.3)\n",
      "Requirement already satisfied: tensorflow-io-gcs-filesystem>=0.23.1 in c:\\users\\ganii\\appdata\\local\\programs\\python\\python39\\lib\\site-packages (from tensorflow-intel==2.16.1->tensorflow) (0.31.0)\n",
      "Requirement already satisfied: numpy<2.0.0,>=1.23.5 in c:\\users\\ganii\\appdata\\local\\programs\\python\\python39\\lib\\site-packages (from tensorflow-intel==2.16.1->tensorflow) (1.26.4)\n",
      "Requirement already satisfied: wheel<1.0,>=0.23.0 in c:\\users\\ganii\\appdata\\local\\programs\\python\\python39\\lib\\site-packages (from astunparse>=1.6.0->tensorflow-intel==2.16.1->tensorflow) (0.43.0)\n",
      "Requirement already satisfied: rich in c:\\users\\ganii\\appdata\\local\\programs\\python\\python39\\lib\\site-packages (from keras>=3.0.0->tensorflow-intel==2.16.1->tensorflow) (13.7.1)\n",
      "Requirement already satisfied: namex in c:\\users\\ganii\\appdata\\local\\programs\\python\\python39\\lib\\site-packages (from keras>=3.0.0->tensorflow-intel==2.16.1->tensorflow) (0.0.8)\n",
      "Requirement already satisfied: optree in c:\\users\\ganii\\appdata\\local\\programs\\python\\python39\\lib\\site-packages (from keras>=3.0.0->tensorflow-intel==2.16.1->tensorflow) (0.11.0)\n",
      "Requirement already satisfied: charset-normalizer<4,>=2 in c:\\users\\ganii\\appdata\\local\\programs\\python\\python39\\lib\\site-packages (from requests<3,>=2.21.0->tensorflow-intel==2.16.1->tensorflow) (3.3.2)\n",
      "Requirement already satisfied: idna<4,>=2.5 in c:\\users\\ganii\\appdata\\local\\programs\\python\\python39\\lib\\site-packages (from requests<3,>=2.21.0->tensorflow-intel==2.16.1->tensorflow) (3.7)\n",
      "Requirement already satisfied: urllib3<3,>=1.21.1 in c:\\users\\ganii\\appdata\\local\\programs\\python\\python39\\lib\\site-packages (from requests<3,>=2.21.0->tensorflow-intel==2.16.1->tensorflow) (2.2.1)\n",
      "Requirement already satisfied: certifi>=2017.4.17 in c:\\users\\ganii\\appdata\\local\\programs\\python\\python39\\lib\\site-packages (from requests<3,>=2.21.0->tensorflow-intel==2.16.1->tensorflow) (2024.2.2)\n",
      "Requirement already satisfied: markdown>=2.6.8 in c:\\users\\ganii\\appdata\\local\\programs\\python\\python39\\lib\\site-packages (from tensorboard<2.17,>=2.16->tensorflow-intel==2.16.1->tensorflow) (3.6)\n",
      "Requirement already satisfied: tensorboard-data-server<0.8.0,>=0.7.0 in c:\\users\\ganii\\appdata\\local\\programs\\python\\python39\\lib\\site-packages (from tensorboard<2.17,>=2.16->tensorflow-intel==2.16.1->tensorflow) (0.7.2)\n",
      "Requirement already satisfied: werkzeug>=1.0.1 in c:\\users\\ganii\\appdata\\local\\programs\\python\\python39\\lib\\site-packages (from tensorboard<2.17,>=2.16->tensorflow-intel==2.16.1->tensorflow) (3.0.3)\n",
      "Requirement already satisfied: importlib-metadata>=4.4 in c:\\users\\ganii\\appdata\\local\\programs\\python\\python39\\lib\\site-packages (from markdown>=2.6.8->tensorboard<2.17,>=2.16->tensorflow-intel==2.16.1->tensorflow) (7.1.0)\n",
      "Requirement already satisfied: MarkupSafe>=2.1.1 in c:\\users\\ganii\\appdata\\local\\programs\\python\\python39\\lib\\site-packages (from werkzeug>=1.0.1->tensorboard<2.17,>=2.16->tensorflow-intel==2.16.1->tensorflow) (2.1.5)\n",
      "Requirement already satisfied: markdown-it-py>=2.2.0 in c:\\users\\ganii\\appdata\\local\\programs\\python\\python39\\lib\\site-packages (from rich->keras>=3.0.0->tensorflow-intel==2.16.1->tensorflow) (3.0.0)\n",
      "Requirement already satisfied: pygments<3.0.0,>=2.13.0 in c:\\users\\ganii\\appdata\\local\\programs\\python\\python39\\lib\\site-packages (from rich->keras>=3.0.0->tensorflow-intel==2.16.1->tensorflow) (2.18.0)\n",
      "Requirement already satisfied: zipp>=0.5 in c:\\users\\ganii\\appdata\\local\\programs\\python\\python39\\lib\\site-packages (from importlib-metadata>=4.4->markdown>=2.6.8->tensorboard<2.17,>=2.16->tensorflow-intel==2.16.1->tensorflow) (3.18.2)\n",
      "Requirement already satisfied: mdurl~=0.1 in c:\\users\\ganii\\appdata\\local\\programs\\python\\python39\\lib\\site-packages (from markdown-it-py>=2.2.0->rich->keras>=3.0.0->tensorflow-intel==2.16.1->tensorflow) (0.1.2)\n",
      "Note: you may need to restart the kernel to use updated packages.\n"
     ]
    }
   ],
   "source": [
    "pip install tensorflow"
   ]
  },
  {
   "cell_type": "code",
   "execution_count": null,
   "id": "6ff5b0e1-4d6a-43d4-9bd4-f7d6f1f8c0fa",
   "metadata": {},
   "outputs": [],
   "source": [
    "pip install opencv-python"
   ]
  },
  {
   "cell_type": "code",
   "execution_count": null,
   "id": "c69c1e0d-07ae-4c8e-b793-da6826f91d0d",
   "metadata": {},
   "outputs": [],
   "source": [
    "pip install matplotlib"
   ]
  },
  {
   "cell_type": "code",
   "execution_count": null,
   "id": "599155cb-8c1f-4e06-93ff-9bcc2cf0d6aa",
   "metadata": {},
   "outputs": [],
   "source": [
    "import tensorflow as tf\n",
    "import os"
   ]
  },
  {
   "cell_type": "code",
   "execution_count": null,
   "id": "cd3b30a6-07f7-466f-a70c-4da372f81add",
   "metadata": {},
   "outputs": [],
   "source": [
    "gpus = tf.config.experimental.list_physical_devices('GPU')\n",
    "for gpu in gpus: \n",
    "    tf.config.experimental.set_memory_growth(gpu, True)"
   ]
  },
  {
   "cell_type": "code",
   "execution_count": null,
   "id": "dde29e84-9e61-4cc8-9176-7e96517f4dd8",
   "metadata": {},
   "outputs": [],
   "source": [
    "tf.config.list_physical_devices('GPU')"
   ]
  },
  {
   "cell_type": "code",
   "execution_count": null,
   "id": "ebb75114-e7f0-47ff-ba35-c9b0a5be26aa",
   "metadata": {},
   "outputs": [],
   "source": [
    "import cv2\n",
    "import imghdr"
   ]
  },
  {
   "cell_type": "code",
   "execution_count": null,
   "id": "8468bc98-62f1-44cd-b24c-c751accab683",
   "metadata": {},
   "outputs": [],
   "source": [
    "data_dir = 'data' "
   ]
  },
  {
   "cell_type": "code",
   "execution_count": null,
   "id": "06240218-5aa2-40ea-9902-73a17d09a7d4",
   "metadata": {},
   "outputs": [],
   "source": [
    "image_exts = ['jpeg','jpg', 'bmp', 'png']"
   ]
  },
  {
   "cell_type": "code",
   "execution_count": null,
   "id": "9d3c8ba1-2484-49cf-b9a2-ab0a609f2977",
   "metadata": {},
   "outputs": [],
   "source": [
    "for image_class in os.listdir(data_dir): \n",
    "    for image in os.listdir(os.path.join(data_dir, image_class)):\n",
    "        image_path = os.path.join(data_dir, image_class, image)\n",
    "        try: \n",
    "            img = cv2.imread(image_path)\n",
    "            tip = imghdr.what(image_path)\n",
    "            if tip not in image_exts: \n",
    "                print('Image not in ext list {}'.format(image_path))\n",
    "                os.remove(image_path)\n",
    "        except Exception as e: \n",
    "            print('Issue with image {}'.format(image_path))\n",
    "            os.remove(image_path)"
   ]
  },
  {
   "cell_type": "code",
   "execution_count": null,
   "id": "594aa398-2986-4792-b958-9b2968bdc769",
   "metadata": {},
   "outputs": [],
   "source": [
    "import numpy as np\n",
    "from matplotlib import pyplot as plt"
   ]
  },
  {
   "cell_type": "code",
   "execution_count": null,
   "id": "d3194f97-ccfe-4a2f-8813-38bf78b88b9f",
   "metadata": {},
   "outputs": [],
   "source": [
    "data = tf.keras.utils.image_dataset_from_directory('data')\n"
   ]
  },
  {
   "cell_type": "code",
   "execution_count": null,
   "id": "cc54679a-9267-43e0-910e-e3af7bfd277d",
   "metadata": {},
   "outputs": [],
   "source": [
    "data_iterator = data.as_numpy_iterator()"
   ]
  },
  {
   "cell_type": "code",
   "execution_count": null,
   "id": "04b3c8ec-0784-41fb-8e73-4f6975953809",
   "metadata": {},
   "outputs": [],
   "source": [
    "batch = data_iterator.next()"
   ]
  },
  {
   "cell_type": "code",
   "execution_count": null,
   "id": "212f461c-3fea-490e-9977-ca21137e63aa",
   "metadata": {},
   "outputs": [],
   "source": [
    "fig, ax = plt.subplots(ncols=4, figsize=(20,20))\n",
    "for idx, img in enumerate(batch[0][:4]):\n",
    "    ax[idx].imshow(img.astype(int))\n",
    "    ax[idx].title.set_text(batch[1][idx])"
   ]
  },
  {
   "cell_type": "code",
   "execution_count": null,
   "id": "e5b61894-b0bf-47fb-ae1f-439c11ace092",
   "metadata": {},
   "outputs": [],
   "source": [
    "data = data.map(lambda x,y: (x/255, y))"
   ]
  },
  {
   "cell_type": "code",
   "execution_count": null,
   "id": "4fd948ad-1204-4ea7-801b-bae4f961648a",
   "metadata": {
    "scrolled": true
   },
   "outputs": [],
   "source": [
    "scaled = data.as_numpy_iterator().next()"
   ]
  },
  {
   "cell_type": "code",
   "execution_count": null,
   "id": "9f6ad05b-2ceb-471c-8cc3-738eec758f45",
   "metadata": {},
   "outputs": [],
   "source": [
    "train_size = int(len(data)*.7) -1\n",
    "val_size = int(len(data)*.2)\n",
    "test_size = int(len(data)*.1)"
   ]
  },
  {
   "cell_type": "code",
   "execution_count": null,
   "id": "8741800a-b0f9-458a-977b-d76762029ba1",
   "metadata": {},
   "outputs": [],
   "source": [
    "train = data.take(train_size)\n",
    "val = data.skip(train_size).take(val_size)\n",
    "test = data.skip(train_size+val_size).take(test_size)"
   ]
  },
  {
   "cell_type": "code",
   "execution_count": null,
   "id": "0dc1d0c3-724d-48d4-950e-68da074fbbb5",
   "metadata": {},
   "outputs": [],
   "source": []
  },
  {
   "cell_type": "code",
   "execution_count": null,
   "id": "404d4318-ca20-4510-a152-82c9bfea692b",
   "metadata": {},
   "outputs": [],
   "source": []
  },
  {
   "cell_type": "code",
   "execution_count": null,
   "id": "6904dc22-e8d7-447b-bcea-da51ca5b4bd2",
   "metadata": {},
   "outputs": [],
   "source": [
    "from tensorflow.keras.models import Sequential\n",
    "from tensorflow.keras.layers import Conv2D, MaxPooling2D, Dense, Flatten, Dropout"
   ]
  },
  {
   "cell_type": "code",
   "execution_count": null,
   "id": "45f307b1-b227-4fe2-87f1-7d1105f8989f",
   "metadata": {},
   "outputs": [],
   "source": [
    "model = Sequential()"
   ]
  },
  {
   "cell_type": "code",
   "execution_count": null,
   "id": "a5ba2e0f-9f2e-437a-ad77-135b82254500",
   "metadata": {
    "scrolled": true
   },
   "outputs": [],
   "source": [
    "model.add(Conv2D(16, (3,3), 1, activation='relu', input_shape=(256,256,3)))\n",
    "model.add(MaxPooling2D())\n",
    "model.add(Conv2D(32, (3,3), 1, activation='relu'))\n",
    "model.add(MaxPooling2D())\n",
    "model.add(Conv2D(16, (3,3), 1, activation='relu'))\n",
    "model.add(MaxPooling2D())\n",
    "model.add(Flatten())\n",
    "model.add(Dense(256, activation='relu'))\n",
    "model.add(Dense(1, activation='sigmoid'))"
   ]
  },
  {
   "cell_type": "code",
   "execution_count": null,
   "id": "1924a5df-8f13-4e66-b70c-a64dfe160a7e",
   "metadata": {},
   "outputs": [],
   "source": [
    "model.compile('adam', loss=tf.losses.BinaryCrossentropy(), metrics=['accuracy'])"
   ]
  },
  {
   "cell_type": "code",
   "execution_count": null,
   "id": "2a0e2c37-96fe-4ece-aa68-8fdadba54042",
   "metadata": {},
   "outputs": [],
   "source": [
    "model.summary()"
   ]
  },
  {
   "cell_type": "code",
   "execution_count": null,
   "id": "805c559e-dead-4aaa-a3d9-5072abf22889",
   "metadata": {},
   "outputs": [],
   "source": [
    "logdir='logs'"
   ]
  },
  {
   "cell_type": "code",
   "execution_count": null,
   "id": "8d8e19c5-d628-40f9-9bda-0f4ca8cb50ad",
   "metadata": {},
   "outputs": [],
   "source": [
    "tensorboard_callback = tf.keras.callbacks.TensorBoard(log_dir=logdir)"
   ]
  },
  {
   "cell_type": "code",
   "execution_count": null,
   "id": "296176ae-bd9d-4d2f-b29e-e4f78a582274",
   "metadata": {},
   "outputs": [],
   "source": [
    "hist = model.fit(train, epochs=20, validation_data=val, callbacks=[tensorboard_callback])"
   ]
  },
  {
   "cell_type": "code",
   "execution_count": null,
   "id": "47f2b756-b45a-42c5-9372-4fccb0838383",
   "metadata": {},
   "outputs": [],
   "source": [
    "fig = plt.figure()\n",
    "plt.plot(hist.history['loss'], color='teal', label='loss')\n",
    "plt.plot(hist.history['val_loss'], color='orange', label='val_loss')\n",
    "fig.suptitle('Loss', fontsize=20)\n",
    "plt.legend(loc=\"upper left\")\n",
    "plt.show()"
   ]
  },
  {
   "cell_type": "code",
   "execution_count": null,
   "id": "788360d7-d2b8-4bd5-a8b3-d82ec471cb91",
   "metadata": {},
   "outputs": [],
   "source": [
    "fig = plt.figure()\n",
    "plt.plot(hist.history['accuracy'], color='teal', label='loss')\n",
    "plt.plot(hist.history['val_accuracy'], color='orange', label='val_loss')\n",
    "fig.suptitle('accuracy', fontsize=20)\n",
    "plt.legend(loc=\"upper left\")\n",
    "plt.show()"
   ]
  },
  {
   "cell_type": "code",
   "execution_count": null,
   "id": "970bb6a5-19e1-4804-8540-5776ab1ca52a",
   "metadata": {},
   "outputs": [],
   "source": [
    "from tensorflow.keras.metrics import Precision, Recall, BinaryAccuracy"
   ]
  },
  {
   "cell_type": "code",
   "execution_count": null,
   "id": "94785299-05e9-4c0b-942c-7ca7a9482c10",
   "metadata": {},
   "outputs": [],
   "source": [
    "pre = Precision()\n",
    "re = Recall()\n",
    "acc = BinaryAccuracy()"
   ]
  },
  {
   "cell_type": "code",
   "execution_count": null,
   "id": "8415379e-826d-459e-ad14-7c2ff2212496",
   "metadata": {},
   "outputs": [],
   "source": [
    "for batch in test.as_numpy_iterator(): \n",
    "    X, y = batch\n",
    "    yhat = model.predict(X)\n",
    "    pre.update_state(y, yhat)\n",
    "    re.update_state(y, yhat)\n",
    "    acc.update_state(y, yhat)"
   ]
  },
  {
   "cell_type": "code",
   "execution_count": null,
   "id": "3513ee5c-9cc2-4a04-ad76-7f5c15b65d6c",
   "metadata": {},
   "outputs": [],
   "source": [
    "print(pre.result(), re.result(), acc.result())"
   ]
  },
  {
   "cell_type": "code",
   "execution_count": null,
   "id": "46c0ac9f-77bb-498f-aa38-9ed614036518",
   "metadata": {},
   "outputs": [],
   "source": [
    "import cv2"
   ]
  },
  {
   "cell_type": "code",
   "execution_count": null,
   "id": "a542c2ed-b0d5-4047-8909-124aa3344452",
   "metadata": {},
   "outputs": [],
   "source": [
    "img = cv2.imread('download.jpg')\n",
    "plt.imshow(img)\n",
    "plt.show()"
   ]
  },
  {
   "cell_type": "code",
   "execution_count": null,
   "id": "93bab42a-8336-4209-aeee-cec12b2c995f",
   "metadata": {},
   "outputs": [],
   "source": [
    "resize = tf.image.resize(img, (256,256))\n",
    "plt.imshow(resize.numpy().astype(int))\n",
    "plt.show()"
   ]
  },
  {
   "cell_type": "code",
   "execution_count": null,
   "id": "2c52b0fb-dca9-43a0-9c41-63bbeeed76ff",
   "metadata": {},
   "outputs": [],
   "source": [
    "yhat = model.predict(np.expand_dims(resize/255, 0))"
   ]
  },
  {
   "cell_type": "code",
   "execution_count": null,
   "id": "e17caf83-e80f-4deb-8c8b-1b296ffdfc4d",
   "metadata": {},
   "outputs": [],
   "source": [
    "yhat"
   ]
  },
  {
   "cell_type": "code",
   "execution_count": null,
   "id": "e1e7910f-95d0-4a9b-b1d7-d180800f3e69",
   "metadata": {},
   "outputs": [],
   "source": [
    "# less than 1 its notes pic \n",
    "# greater than 1 its normal pic\n",
    "# 1 means notes \n",
    "# 0 means normal"
   ]
  },
  {
   "cell_type": "code",
   "execution_count": null,
   "id": "001d78a1-190c-4c8a-a315-5b3f85ba550a",
   "metadata": {},
   "outputs": [],
   "source": [
    "if yhat > 0.5: \n",
    "    print(f'Predicted class is notes')\n",
    "elif yhat>1.0:\n",
    "    print(f'Predicted class is normal')\n",
    "else:\n",
    "    print(f'predicted class is normal')"
   ]
  },
  {
   "cell_type": "code",
   "execution_count": null,
   "id": "b69a6d7f-56e2-40bc-ab4c-7e3430fcb11a",
   "metadata": {},
   "outputs": [],
   "source": [
    "from tensorflow.keras.models import load_model"
   ]
  },
  {
   "cell_type": "code",
   "execution_count": null,
   "id": "9880b0a4-7f81-473c-b68b-2f3e1d91179c",
   "metadata": {},
   "outputs": [],
   "source": [
    "model.save(os.path.join('models','deepbinaryimageclassifier.keras'))"
   ]
  },
  {
   "cell_type": "code",
   "execution_count": null,
   "id": "2d7a0a1e-5f88-4f7b-851f-3920832947d4",
   "metadata": {},
   "outputs": [],
   "source": [
    "new_model = load_model('models\\deepbinaryimageclassifier.keras')"
   ]
  },
  {
   "cell_type": "code",
   "execution_count": null,
   "id": "eea7c01e-4a01-44cd-b47c-dc1c36a36515",
   "metadata": {},
   "outputs": [],
   "source": [
    "new_model.predict(np.expand_dims(resize/255, 0))"
   ]
  },
  {
   "cell_type": "code",
   "execution_count": null,
   "id": "14bca43b-adcb-4701-8338-4bca4070c07b",
   "metadata": {},
   "outputs": [],
   "source": [
    "import cv2 \n",
    "import shutil\n",
    "import matplotlib.pyplot as plt\n",
    "import tensorflow as tf\n",
    "from tensorflow.keras.models import load_model"
   ]
  },
  {
   "cell_type": "code",
   "execution_count": null,
   "id": "fdcaadc1-c9d4-47ce-81b2-b146a2b0fce1",
   "metadata": {},
   "outputs": [],
   "source": [
    "model.save(os.path.join('models','deepbinaryimageclassifier.keras'))\n",
    "new_model = load_model('models\\deepbinaryimageclassifier.keras')\n",
    "new_model.predict(np.expand_dims(resize/255, 0))\n",
    "img = cv2.imread('images.jpg')"
   ]
  },
  {
   "cell_type": "code",
   "execution_count": null,
   "id": "9dc308aa-a65f-4aec-9f9e-fa0c217d2a32",
   "metadata": {},
   "outputs": [],
   "source": [
    "plt.imshow(img)\n",
    "plt.show()"
   ]
  },
  {
   "cell_type": "code",
   "execution_count": null,
   "id": "94262751-c213-4a8d-aaf7-47de5a33fd29",
   "metadata": {},
   "outputs": [],
   "source": [
    "resized = tf.image.resize(img,(256,256))"
   ]
  },
  {
   "cell_type": "code",
   "execution_count": null,
   "id": "cc37714f-92d4-414f-9423-b704a0042167",
   "metadata": {},
   "outputs": [],
   "source": [
    "plt.imshow(resized.numpy().astype(int))\n",
    "plt.show()"
   ]
  },
  {
   "cell_type": "code",
   "execution_count": null,
   "id": "bdd49c74-d1b0-46da-960a-57b635c71cff",
   "metadata": {},
   "outputs": [],
   "source": [
    "yhat = new_model.predict(np.expand_dims(resized/255 ,0))"
   ]
  },
  {
   "cell_type": "code",
   "execution_count": null,
   "id": "55e0b7d1-320e-461f-813d-818338ca0275",
   "metadata": {},
   "outputs": [],
   "source": [
    "yhat"
   ]
  },
  {
   "cell_type": "code",
   "execution_count": null,
   "id": "9b1ba3f9-9c2e-482b-994c-3dac852b460b",
   "metadata": {},
   "outputs": [],
   "source": [
    "def move_to_delete_directory(img_file):\n",
    "    source_path = os.path.join('verifyingdatasetsmixed', img_file)\n",
    "    destination_path = os.path.join('delete_data', img_file)\n",
    "    shutil.move(source_path, destination_path)\n",
    "    print(f\"moved {img_file} to delete_data folder\")\n",
    "\n",
    "def move_to_nodelete_directory(img_file):\n",
    "    source_path = os.path.join('verifyingdatasetsmixed', img_file)\n",
    "    destination_path = os.path.join('no_delete_data', img_file)\n",
    "    shutil.move(source_path, destination_path)\n",
    "    print(f\"moved {img_file} to no_delete_data folder\")\n",
    "\n",
    "def move_to_directory(img_file,source_dir,move_dir):\n",
    "    source_path = os.path.join(source_dir, img_file)\n",
    "    destination_path = os.path.join(move_dir, img_file)\n",
    "    shutil.move(source_path, destination_path)\n",
    "    print(f\"moved {img_file} to {move_dir} folder\")\n",
    "    "
   ]
  },
  {
   "cell_type": "code",
   "execution_count": null,
   "id": "1fe55acd-b7c9-41c2-9e54-9204372bba2b",
   "metadata": {
    "scrolled": true
   },
   "outputs": [],
   "source": [
    "image_directory = 'verifyingdatasetsmixed'\n",
    "\n",
    "image_files = [f for f in os.listdir(image_directory) if os.path.isfile(os.path.join(image_directory, f))]\n",
    "print(image_files)\n",
    "\n",
    "for img in image_files:\n",
    "    img_path = os.path.join(image_directory, img)\n",
    "    img_file = cv2.imread(img_path)\n",
    "    resized = tf.image.resize(img_file,(256,256))\n",
    "    yhat = new_model.predict(np.expand_dims(resized/255 ,0))\n",
    "    if yhat<0.5:\n",
    "        print(f\"the image {img} is not a noteimage\")\n",
    "        move_to_nodelete_directory(img)\n",
    "    elif yhat>1:\n",
    "        print(f\"the image {img} is expected to be a normal photo\")\n",
    "        move_to_nodelete_directory(img)\n",
    "    else:\n",
    "        print(f\"the image {img}is a notebook image and moving to delete directory\")\n",
    "        move_to_delete_directory(img)\n",
    "        "
   ]
  },
  {
   "cell_type": "code",
   "execution_count": null,
   "id": "a62afdb3-b703-4bb6-8b88-d3503ab81db0",
   "metadata": {},
   "outputs": [],
   "source": [
    "image_directory_recheck = \"delete_data\"\n",
    "image_files_recheck = [f for f in os.listdir(image_directory_recheck) if os.path.isfile(os.path.join(image_directory_recheck, f))]"
   ]
  },
  {
   "cell_type": "code",
   "execution_count": null,
   "id": "38ade998-48b2-480c-ae99-38cd8458c5d0",
   "metadata": {
    "scrolled": true
   },
   "outputs": [],
   "source": [
    "for img in image_files_recheck:\n",
    "    re_img_path = os.path.join(image_directory_recheck,img)\n",
    "    re_img_file = cv2.imread(re_img_path)\n",
    "    resized = tf.image.resize(re_img_file,(256,256))\n",
    "    plt.imshow(re_img_file)\n",
    "    plt.show()\n",
    "    re_yhat = new_model.predict(np.expand_dims(resized/255,0))\n",
    "    if re_yhat<0.5:\n",
    "        print(f\"the image {img} is not a noteimage with yhat {re_yhat}\")\n",
    "        move_to_directory(img,'delete_data','no_delete_data')\n",
    "    elif yhat>1:\n",
    "        print(f\"the image {img} is expected to be a normal photo with yhat {re_yhat}\")\n",
    "        move_to_directory(img,'delete_data','no_delete_data')\n",
    "    else:\n",
    "        print(f\"the image {img}is a notebook image and moving to delete directory with yhat {re_yhat}\")\n",
    "        move_to_directory(img,'delete_data','delete_data')\n",
    "        "
   ]
  },
  {
   "cell_type": "code",
   "execution_count": null,
   "id": "18e2fed6-c83a-4373-a263-67a4bfb32a21",
   "metadata": {},
   "outputs": [],
   "source": []
  }
 ],
 "metadata": {
  "kernelspec": {
   "display_name": "Python 3 (ipykernel)",
   "language": "python",
   "name": "python3"
  },
  "language_info": {
   "codemirror_mode": {
    "name": "ipython",
    "version": 3
   },
   "file_extension": ".py",
   "mimetype": "text/x-python",
   "name": "python",
   "nbconvert_exporter": "python",
   "pygments_lexer": "ipython3",
   "version": "3.9.11"
  }
 },
 "nbformat": 4,
 "nbformat_minor": 5
}
